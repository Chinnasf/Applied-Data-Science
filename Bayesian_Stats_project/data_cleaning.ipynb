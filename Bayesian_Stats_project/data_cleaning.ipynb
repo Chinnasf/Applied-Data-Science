{
 "cells": [
  {
   "cell_type": "code",
   "execution_count": 1,
   "id": "03dfe267",
   "metadata": {},
   "outputs": [],
   "source": [
    "import numpy as pd\n",
    "import pandas as pd\n",
    "import matplotlib.pyplot as plt\n",
    "\n",
    "sstyle = \"seaborn-poster\"\n",
    "plt.style.use(sstyle)\n",
    "plt.rc('font',family = 'serif')"
   ]
  },
  {
   "cell_type": "code",
   "execution_count": 2,
   "id": "0eeddbd7",
   "metadata": {},
   "outputs": [],
   "source": [
    "co2 = \"data/owid-co2-data.csv\"; energy = \"data/owid-energy-data.csv\"; covid = \"data/owid-covid-data.csv\""
   ]
  },
  {
   "cell_type": "code",
   "execution_count": 3,
   "id": "eec15479",
   "metadata": {},
   "outputs": [],
   "source": [
    "def process_covid():\n",
    "    df = pd.read_csv(covid)\n",
    "    df = df[df.location.isin([\"World\"])] \n",
    "    df = df[[\"date\",\"total_cases\",\"total_deaths\"]]\n",
    "    df.date  = pd.to_datetime(df.date,format=\"%Y-%m-%d\")\n",
    "    df.index = df[\"date\"]\n",
    "    df = df.drop(columns=[\"date\"])\n",
    "    return df\n",
    "#process_covid().plot();"
   ]
  },
  {
   "cell_type": "code",
   "execution_count": null,
   "id": "1c545a9b",
   "metadata": {},
   "outputs": [],
   "source": []
  },
  {
   "cell_type": "code",
   "execution_count": null,
   "id": "448f8bce",
   "metadata": {},
   "outputs": [],
   "source": []
  }
 ],
 "metadata": {
  "kernelspec": {
   "display_name": "Python 3 (ipykernel)",
   "language": "python",
   "name": "python3"
  },
  "language_info": {
   "codemirror_mode": {
    "name": "ipython",
    "version": 3
   },
   "file_extension": ".py",
   "mimetype": "text/x-python",
   "name": "python",
   "nbconvert_exporter": "python",
   "pygments_lexer": "ipython3",
   "version": "3.10.4"
  }
 },
 "nbformat": 4,
 "nbformat_minor": 5
}
